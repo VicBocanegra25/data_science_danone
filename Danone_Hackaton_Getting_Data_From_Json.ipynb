{
 "cells": [
  {
   "cell_type": "markdown",
   "id": "b955fbcc",
   "metadata": {},
   "source": [
    "# Getting the data\n",
    "1. For the first part of the challenge, we first need to get the data from the urls that we're provided with. \n",
    "2. The json data cannot be downloaded from the browser (nor it can be copied/pasted), probably because the data is too large. \n",
    "3. For that reason, we'll use the request module to get the data and download it to our local machine. "
   ]
  },
  {
   "cell_type": "code",
   "execution_count": 2,
   "id": "89ef70f3",
   "metadata": {},
   "outputs": [],
   "source": [
    "# Importing the libraries\n",
    "import requests\n",
    "import json\n",
    "\n",
    "# URL of the json files (provided in the hackaton description page)\n",
    "url_train = \"https://challenges-asset-files.s3.us-east-2.amazonaws.com/Events/Danone+Hackathon+Mexico/data/train_products.json\"\n",
    "url_test = \"https://challenges-asset-files.s3.us-east-2.amazonaws.com/Events/Danone+Hackathon+Mexico/data/test_products.json\"\n",
    "\n",
    "# Send HTTP request to URL and save the response from server in a response object \n",
    "r1 = requests.get(url_train)\n",
    "r2 = requests.get(url_test)\n",
    "\n",
    "# Load JSON data from source\n",
    "training_data = json.loads(r1.text)\n",
    "testing_data = json.loads(r2.text)\n",
    "\n",
    "# Writing the data into json files on the local machine\n",
    "with open('train_products.json', 'w') as f:\n",
    "    json.dump(training_data, f)\n",
    "\n",
    "with open('test_products.json', 'w') as f:\n",
    "    json.dump(testing_data, f)\n"
   ]
  },
  {
   "cell_type": "code",
   "execution_count": null,
   "id": "3d1f4458",
   "metadata": {},
   "outputs": [],
   "source": []
  }
 ],
 "metadata": {
  "kernelspec": {
   "display_name": "Python 3 (ipykernel)",
   "language": "python",
   "name": "python3"
  },
  "language_info": {
   "codemirror_mode": {
    "name": "ipython",
    "version": 3
   },
   "file_extension": ".py",
   "mimetype": "text/x-python",
   "name": "python",
   "nbconvert_exporter": "python",
   "pygments_lexer": "ipython3",
   "version": "3.10.1"
  }
 },
 "nbformat": 4,
 "nbformat_minor": 5
}
